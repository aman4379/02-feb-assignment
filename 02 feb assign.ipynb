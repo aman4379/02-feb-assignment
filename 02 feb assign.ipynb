{
 "cells": [
  {
   "cell_type": "code",
   "execution_count": null,
   "id": "b1a4c536-e49c-41f6-85e9-d2a086e02993",
   "metadata": {},
   "outputs": [],
   "source": [
    "Q1. Explain with an example each when to use a for loop and a while loop."
   ]
  },
  {
   "cell_type": "code",
   "execution_count": null,
   "id": "07763539-256e-4cac-895d-cd4c347a9d74",
   "metadata": {},
   "outputs": [],
   "source": [
    "Ans We use for loop when we know that how many times a loop will gonna execute in a problem or how many times a \n",
    "    condition will have to execute. And a while loop will be used when we dont know when the condition will \n",
    "    terminate or how many number of times a loop will execute."
   ]
  },
  {
   "cell_type": "code",
   "execution_count": 1,
   "id": "08ebf5e3-e190-4658-8575-22547816567a",
   "metadata": {},
   "outputs": [
    {
     "name": "stdout",
     "output_type": "stream",
     "text": [
      "1\n",
      "2\n",
      "3\n",
      "4\n",
      "5\n"
     ]
    }
   ],
   "source": [
    "for i in range(1,6):\n",
    "    print(i)"
   ]
  },
  {
   "cell_type": "code",
   "execution_count": 2,
   "id": "ae5970ba-eff3-4bc5-a5ec-75ba29ac4d68",
   "metadata": {},
   "outputs": [
    {
     "name": "stdout",
     "output_type": "stream",
     "text": [
      "40\n"
     ]
    }
   ],
   "source": [
    "n=30\n",
    "m =5\n",
    "while(m<n):\n",
    "    m=m*2\n",
    "print(m)"
   ]
  },
  {
   "cell_type": "code",
   "execution_count": null,
   "id": "7e1753e2-e072-4fc9-9523-5db0e603db23",
   "metadata": {},
   "outputs": [],
   "source": [
    "Q2. Write a python program to print the sum and product of the first 10 natural numbers using for\n",
    "and while loop."
   ]
  },
  {
   "cell_type": "code",
   "execution_count": 3,
   "id": "4d4f00af-e31e-43fb-b01e-286a13be9c83",
   "metadata": {},
   "outputs": [
    {
     "name": "stdout",
     "output_type": "stream",
     "text": [
      "45\n",
      "362880\n"
     ]
    }
   ],
   "source": [
    "sm = 0\n",
    "prd = 1\n",
    "for i in range(1,10):\n",
    "    sm = sm+i\n",
    "    prd = prd*i\n",
    "print(sm)\n",
    "print(prd)"
   ]
  },
  {
   "cell_type": "code",
   "execution_count": 1,
   "id": "8a693e0e-a72a-425a-b5c9-e1b9ab52e12d",
   "metadata": {},
   "outputs": [
    {
     "name": "stdout",
     "output_type": "stream",
     "text": [
      "55\n",
      "3628800\n"
     ]
    }
   ],
   "source": [
    "n = 1\n",
    "sm = 0\n",
    "prd = 1\n",
    "while(n<=10):\n",
    "    sm = sm+n\n",
    "    prd = prd*n\n",
    "    n=n+1\n",
    "print(sm)\n",
    "print(prd)"
   ]
  },
  {
   "cell_type": "code",
   "execution_count": null,
   "id": "19aa77ca-bf58-4164-b14c-9ce145e43a8c",
   "metadata": {},
   "outputs": [],
   "source": [
    "Q3. Create a python program to compute the electricity bill for a household.\n",
    "The per-unit charges in rupees are as follows: For the first 100 units, the user will be charged Rs. 4.5 per\n",
    "unit, for the next 100 units, the user will be charged Rs. 6 per unit, and for the next 100 units, the user will\n",
    "be charged Rs. 10 per unit, After 300 units and above the user will be charged Rs. 20 per unit.\n",
    "\n",
    "You are required to take the units of electricity consumed in a month from the user as input.\n",
    "\n",
    "Your program must pass this test case: when the unit of electricity consumed by the user in a month is\n",
    "310, the total electricity bill should be 2250."
   ]
  },
  {
   "cell_type": "code",
   "execution_count": 7,
   "id": "4337baf7-fb44-4ac7-a40a-3de0123fd9c4",
   "metadata": {},
   "outputs": [
    {
     "name": "stdin",
     "output_type": "stream",
     "text": [
      "Enter the units 310\n"
     ]
    },
    {
     "name": "stdout",
     "output_type": "stream",
     "text": [
      "2250.0\n"
     ]
    }
   ],
   "source": [
    "unit = int(input('Enter the units'))\n",
    "bill = 0\n",
    "if(unit>=100):\n",
    "    bill = bill+4.5*100\n",
    "    unit = unit-100\n",
    "    if(unit>=100):\n",
    "        bill = bill +  6*100\n",
    "        unit = unit-100\n",
    "        if(unit>=100):\n",
    "            bill = bill +  10*100\n",
    "            unit = unit-100\n",
    "            bill =  bill + 20*unit\n",
    "        else:\n",
    "            bill = bill + 10*unit\n",
    "    else:\n",
    "        bill = bill + 6*unit\n",
    "else:\n",
    "    bill = bill + 4.5*unit\n",
    "print(bill)\n",
    "                "
   ]
  },
  {
   "cell_type": "code",
   "execution_count": null,
   "id": "ca591fa7-140c-47fe-bfe8-99f3fc294517",
   "metadata": {},
   "outputs": [],
   "source": [
    "Q4. Create a list of numbers from 1 to 100. Use for loop and while loop to calculate the cube of each\n",
    "number and if the cube of that number is divisible by 4 or 5 then append that number in a list and print\n",
    "that list."
   ]
  },
  {
   "cell_type": "code",
   "execution_count": 9,
   "id": "e6311227-05f1-44ca-8e54-6e191ff6c64d",
   "metadata": {},
   "outputs": [
    {
     "name": "stdout",
     "output_type": "stream",
     "text": [
      "[2, 4, 5, 6, 8, 10, 12, 14, 15, 16, 18, 20, 22, 24, 25, 26, 28, 30, 32, 34, 35, 36, 38, 40, 42, 44, 45, 46, 48, 50, 52, 54, 55, 56, 58, 60, 62, 64, 65, 66, 68, 70, 72, 74, 75, 76, 78, 80, 82, 84, 85, 86, 88, 90, 92, 94, 95, 96, 98, 100]\n"
     ]
    }
   ],
   "source": [
    "l=[]\n",
    "for i in range(1,101):\n",
    "    n= i*i*i\n",
    "    if(n%4==0 or n%5==0):\n",
    "        l.append(i)\n",
    "print(l)"
   ]
  },
  {
   "cell_type": "code",
   "execution_count": null,
   "id": "74b0a6b4-90a0-4d0c-a84e-ca4784cec376",
   "metadata": {},
   "outputs": [],
   "source": [
    "Q5. Write a program to filter count vowels in the below-given string.\n",
    "string = \"I want to become a data scientist\""
   ]
  },
  {
   "cell_type": "code",
   "execution_count": 12,
   "id": "35fcf393-9928-4b0f-bbdc-ce58739c1d4d",
   "metadata": {},
   "outputs": [
    {
     "name": "stdout",
     "output_type": "stream",
     "text": [
      "12\n"
     ]
    }
   ],
   "source": [
    "s = \"I want to become a data scientist\"\n",
    "s=s.lower()\n",
    "count=0\n",
    "for i in s:\n",
    "    if(i=='a' or i=='e' or i=='i' or i=='o' or i=='u'):\n",
    "        count = count+1\n",
    "print(count)"
   ]
  },
  {
   "cell_type": "code",
   "execution_count": 10,
   "id": "e3647935-8e26-4420-9813-39c801e32aa0",
   "metadata": {},
   "outputs": [
    {
     "data": {
      "text/plain": [
       "'i want to become a data scientist'"
      ]
     },
     "execution_count": 10,
     "metadata": {},
     "output_type": "execute_result"
    }
   ],
   "source": [
    "s = \"I want to become a data scientist\"\n",
    "s.lower()"
   ]
  },
  {
   "cell_type": "code",
   "execution_count": null,
   "id": "ceaeb9c7-7543-4563-bec5-34092a64738c",
   "metadata": {},
   "outputs": [],
   "source": []
  }
 ],
 "metadata": {
  "kernelspec": {
   "display_name": "Python 3 (ipykernel)",
   "language": "python",
   "name": "python3"
  },
  "language_info": {
   "codemirror_mode": {
    "name": "ipython",
    "version": 3
   },
   "file_extension": ".py",
   "mimetype": "text/x-python",
   "name": "python",
   "nbconvert_exporter": "python",
   "pygments_lexer": "ipython3",
   "version": "3.10.8"
  }
 },
 "nbformat": 4,
 "nbformat_minor": 5
}
